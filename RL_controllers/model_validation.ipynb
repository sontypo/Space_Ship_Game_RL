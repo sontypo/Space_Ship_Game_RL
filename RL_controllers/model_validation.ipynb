{
 "cells": [
  {
   "cell_type": "markdown",
   "id": "85fecb9c",
   "metadata": {},
   "source": [
    "# Validation trained model: D3QN"
   ]
  },
  {
   "cell_type": "code",
   "execution_count": 1,
   "id": "8c04e3fd",
   "metadata": {},
   "outputs": [
    {
     "name": "stdout",
     "output_type": "stream",
     "text": [
      "Using device: cuda\n",
      "pygame 2.6.1 (SDL 2.28.4, Python 3.10.12)\n",
      "Hello from the pygame community. https://www.pygame.org/contribute.html\n"
     ]
    }
   ],
   "source": [
    "import torch\n",
    "import imageio\n",
    "from dqn_agent import DQNAgent, device\n",
    "from utils import np, pygame, stack_frames, PrioritizedReplayMemory, ReplayBuffer, create_directory"
   ]
  },
  {
   "cell_type": "markdown",
   "id": "f628d1ce",
   "metadata": {},
   "source": [
    "## Loading checkpoint.pth as project template (somehow not provides the best performance)"
   ]
  },
  {
   "cell_type": "code",
   "execution_count": 2,
   "id": "f8bbe8cf",
   "metadata": {},
   "outputs": [],
   "source": [
    "def validate_env(env, using_prioritized_replay, num_trials):\n",
    "    if using_prioritized_replay:\n",
    "        replay_buffer =  PrioritizedReplayMemory(capacity=50000)\n",
    "        model_path = 'saved_models/d3qn_data_2/'  # Adjust if your checkpoint is elsewhere\n",
    "    else:\n",
    "        replay_buffer = ReplayBuffer(capacity=50000)\n",
    "        model_path = 'saved_models/d3qn_normal_buffer_data_2/' \n",
    "        \n",
    "    action_dim = len(env.action_space)\n",
    "    state_shape = (4, 84, 84)\n",
    "\n",
    "    # Initialize agent (make sure net_type and other args match your training)\n",
    "    agent = DQNAgent(state_shape=state_shape, action_dim=action_dim, replay_buffer=replay_buffer, model_path=model_path, net_type='d3qn', use_prioritized_replay=True)\n",
    "\n",
    "    # Load checkpoint\n",
    "    checkpoint = torch.load(model_path + 'checkpoint.pth', map_location=device)\n",
    "    agent.model.load_state_dict(checkpoint['model'])\n",
    "    agent.target_model.load_state_dict(checkpoint['target_model'])\n",
    "    agent.optimizer.load_state_dict(checkpoint['optimizer'])\n",
    "    best_score = checkpoint['best_score']\n",
    "    best_episode = checkpoint['episode']\n",
    "    print(f\">> Loaded model with best score: {best_score}, at episode: {best_episode}\")\n",
    "\n",
    "    # Set agent to evaluation mode\n",
    "    agent.model.eval()\n",
    "    results = []\n",
    "    results = []\n",
    "    best_trial_idx = -1\n",
    "    best_trial_score = float('-inf')\n",
    "    best_trial_frames = []\n",
    "\n",
    "    for trial in range(num_trials):\n",
    "        state = env.reset()\n",
    "        state, stacked_frames = stack_frames(None, state, True)\n",
    "        done = False\n",
    "        total_reward = 0\n",
    "        score = 0\n",
    "        frames = []\n",
    "        env.render()  # Ensure window is created\n",
    "\n",
    "        while not done:\n",
    "            action = agent.select_action(state, eval_mode=True)\n",
    "            next_state, reward, done, _, score, health = env.step(action)\n",
    "            next_state, stacked_frames = stack_frames(stacked_frames, next_state, False)\n",
    "            state = next_state\n",
    "            total_reward += reward\n",
    "            env.render()  # Optional: comment out if running headless\n",
    "            \n",
    "            # Capture frame for video\n",
    "            surface = pygame.display.get_surface()\n",
    "            frame = pygame.surfarray.array3d(surface)\n",
    "            frame = np.transpose(frame, (1, 0, 2))\n",
    "            frames.append(frame)\n",
    "\n",
    "        print(f\"Trial {trial+1}: Total reward: {total_reward}, Score: {score}\")\n",
    "        results.append((total_reward, score))\n",
    "        \n",
    "        # Save best trial's frames\n",
    "        if score > best_trial_score:\n",
    "            best_trial_score = score\n",
    "            best_trial_idx = trial\n",
    "            best_trial_frames = frames\n",
    "\n",
    "    env.close()\n",
    "\n",
    "    # Optionally, print summary statistics\n",
    "    avg_reward = sum(r for r, _ in results) / num_trials\n",
    "    avg_score = sum(s for _, s in results) / num_trials\n",
    "    print(f\"\\nAverage over {num_trials} trials: Reward = {avg_reward:.2f}, Score = {avg_score:.2f}\")\n",
    "    \n",
    "    # Save best trial video\n",
    "    if best_trial_frames:\n",
    "        video_folder = 'saved_models/best_trial_videos/'\n",
    "        create_directory(video_folder)\n",
    "        video_path = f\"best_trial_{best_trial_idx+1}_score_{best_trial_score}.mp4\"\n",
    "        imageio.mimsave(video_folder + video_path, best_trial_frames, fps=60, quality=9)\n",
    "        print(f\"Saved best trial video to: {video_path}\")"
   ]
  },
  {
   "cell_type": "code",
   "execution_count": null,
   "id": "af52d722",
   "metadata": {},
   "outputs": [],
   "source": [
    "# Set up environment and agent\n",
    "from env_wrapper import SpaceShipEnv\n",
    "env = SpaceShipEnv()\n",
    "\n",
    "using_prioritized_replay=True   # Change to False if you want to test with normal replay buffer\n",
    "num_trials = 1  # Number of trials to run for validation\n",
    "validate_env(env, using_prioritized_replay, num_trials)"
   ]
  },
  {
   "cell_type": "markdown",
   "id": "73dc4425",
   "metadata": {},
   "source": [
    "## Load my trained model for prediction network and target network (provide best performance in this ws)"
   ]
  },
  {
   "cell_type": "code",
   "execution_count": null,
   "id": "db5d6ff2",
   "metadata": {},
   "outputs": [],
   "source": [
    "def validate_env_specific_checkpoint(env, using_prioritized_replay, checkpoint=None):\n",
    "    if using_prioritized_replay:\n",
    "        replay_buffer =  PrioritizedReplayMemory(capacity=50000)\n",
    "        model_path = 'saved_models/d3qn_data_2/d3qn_model_ep'  + checkpoint + '.pth'   #\n",
    "        target_model_path = 'saved_models/d3qn_data_2/d3qn_target_model_ep' + checkpoint + '.pth'\n",
    "    else:\n",
    "        replay_buffer = ReplayBuffer(capacity=50000)\n",
    "        model_path = 'saved_models/d3qn_normal_buffer_data_2/d3qn_model_ep'  + checkpoint +'.pth'  #\n",
    "        target_model_path = 'saved_models/d3qn_normal_buffer_data_2/d3qn_target_model_ep' + checkpoint + '.pth'  #3050 > 3250\n",
    "        \n",
    "    action_dim = len(env.action_space)\n",
    "    state_shape = (4, 84, 84)\n",
    "\n",
    "    # Initialize agent (make sure net_type and other args match your training)\n",
    "    agent = DQNAgent(state_shape=state_shape, action_dim=action_dim, replay_buffer=replay_buffer, model_path=model_path, net_type='d3qn', use_prioritized_replay=True)\n",
    "\n",
    "    # Load checkpoint\n",
    "    model_checkpoint = torch.load(model_path, map_location=device)\n",
    "    target_model_checkpoint = torch.load(target_model_path, map_location=device)\n",
    "    agent.model.load_state_dict(model_checkpoint)\n",
    "    agent.target_model.load_state_dict(target_model_checkpoint)\n",
    "\n",
    "    # Set agent to evaluation mode\n",
    "    agent.model.eval()\n",
    "    results = []\n",
    "    results = []\n",
    "\n",
    "    state = env.reset()\n",
    "    state, stacked_frames = stack_frames(None, state, True)\n",
    "    done = False\n",
    "    total_reward = 0\n",
    "    score = 0\n",
    "    frames = []\n",
    "    env.render()  # Ensure window is created\n",
    "\n",
    "    while not done:\n",
    "        action = agent.select_action(state, eval_mode=True)\n",
    "        next_state, reward, done, _, score, health = env.step(action)\n",
    "        next_state, stacked_frames = stack_frames(stacked_frames, next_state, False)\n",
    "        state = next_state\n",
    "        total_reward += reward\n",
    "        env.render()  # Optional: comment out if running headless\n",
    "        \n",
    "        # Capture frame for video\n",
    "        surface = pygame.display.get_surface()\n",
    "        frame = pygame.surfarray.array3d(surface)\n",
    "        frame = np.transpose(frame, (1, 0, 2))\n",
    "        frames.append(frame)\n",
    "\n",
    "    print(f\"Total reward: {total_reward}, Score: {score}\")\n",
    "    results.append((total_reward, score))\n",
    "\n",
    "    env.close()\n",
    "    \n",
    "    # Save best trial video\n",
    "    return frames, score"
   ]
  },
  {
   "cell_type": "code",
   "execution_count": null,
   "id": "4ac8643d",
   "metadata": {},
   "outputs": [
    {
     "name": "stdout",
     "output_type": "stream",
     "text": [
      "Using Dueling Double DQN architecture\n",
      "Total reward: 1843.75, Score: 1925\n"
     ]
    }
   ],
   "source": [
    "# Set up environment and agent\n",
    "from env_wrapper import SpaceShipEnv\n",
    "env = SpaceShipEnv()\n",
    "\n",
    "using_prioritized_replay=True   # Change to False if you want to test with normal replay buffer\n",
    "checkpoint = '3450'  # Specify the checkpoint you want to validate, 3250 if using_prioritized_replay=False for using normal replay buffer\n",
    "frame, score = validate_env_specific_checkpoint(env, using_prioritized_replay, checkpoint)"
   ]
  },
  {
   "cell_type": "code",
   "execution_count": null,
   "id": "f854c2f5",
   "metadata": {},
   "outputs": [
    {
     "name": "stderr",
     "output_type": "stream",
     "text": [
      "IMAGEIO FFMPEG_WRITER WARNING: input image is not divisible by macro_block_size=16, resizing from (500, 600) to (512, 608) to ensure video compatibility with most codecs and players. To prevent resizing, make your input image divisible by the macro_block_size or set the macro_block_size to 1 (risking incompatibility).\n"
     ]
    },
    {
     "name": "stdout",
     "output_type": "stream",
     "text": [
      "Saved best trial video to: pisode_3450th_score_1925.mp4\n"
     ]
    }
   ],
   "source": [
    "video_folder = 'saved_models/best_trial_videos/'\n",
    "create_directory(video_folder)\n",
    "video_path = f\"episode_{checkpoint}th_score_{score}.mp4\"\n",
    "imageio.mimsave(video_folder + video_path, frame, fps=60, quality=9)\n",
    "print(f\"Saved best trial video to: {video_path}\")"
   ]
  }
 ],
 "metadata": {
  "kernelspec": {
   "display_name": "Python 3",
   "language": "python",
   "name": "python3"
  },
  "language_info": {
   "codemirror_mode": {
    "name": "ipython",
    "version": 3
   },
   "file_extension": ".py",
   "mimetype": "text/x-python",
   "name": "python",
   "nbconvert_exporter": "python",
   "pygments_lexer": "ipython3",
   "version": "3.10.12"
  }
 },
 "nbformat": 4,
 "nbformat_minor": 5
}
